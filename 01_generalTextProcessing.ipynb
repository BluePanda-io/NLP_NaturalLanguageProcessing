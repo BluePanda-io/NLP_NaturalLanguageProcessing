{
 "cells": [
  {
   "cell_type": "code",
   "execution_count": 1,
   "metadata": {},
   "outputs": [],
   "source": [
    "import os\n",
    "import nltk\n",
    "import nltk.corpus"
   ]
  },
  {
   "cell_type": "code",
   "execution_count": 2,
   "metadata": {},
   "outputs": [
    {
     "name": "stdout",
     "output_type": "stream",
     "text": [
      "<module 'nltk' from '/mnt/storage/software/languages/anaconda/Anaconda3-5.2.0-tflow-1.11/lib/python3.6/site-packages/nltk/__init__.py'>\n"
     ]
    }
   ],
   "source": [
    "print(nltk)"
   ]
  },
  {
   "cell_type": "code",
   "execution_count": 3,
   "metadata": {},
   "outputs": [],
   "source": [
    "# nltk.download()"
   ]
  },
  {
   "cell_type": "code",
   "execution_count": 6,
   "metadata": {},
   "outputs": [
    {
     "name": "stdout",
     "output_type": "stream",
     "text": [
      "['[', 'The', 'Tragedie', 'of', 'Hamlet', 'by', ...]\n"
     ]
    }
   ],
   "source": [
    "nltk.corpus.gutenberg.fileids()\n",
    "\n",
    "hamlet = nltk.corpus.gutenberg.words('shakespeare-hamlet.txt')\n",
    "print(hamlet)"
   ]
  },
  {
   "cell_type": "code",
   "execution_count": 10,
   "metadata": {},
   "outputs": [
    {
     "name": "stdout",
     "output_type": "stream",
     "text": [
      "37360\n",
      "['two', 'Centinels', '.', 'Barnardo', '.']\n"
     ]
    }
   ],
   "source": [
    "print(len(hamlet))\n"
   ]
  },
  {
   "cell_type": "code",
   "execution_count": 11,
   "metadata": {},
   "outputs": [
    {
     "name": "stdout",
     "output_type": "stream",
     "text": [
      "['two', 'Centinels', '.', 'Barnardo', '.', 'Who', \"'\", 's', 'there', '?', 'Fran', '.', 'Nay', 'answer', 'me']\n"
     ]
    }
   ],
   "source": [
    "startPoint = 20\n",
    "print(hamlet[startPoint:startPoint+15])"
   ]
  },
  {
   "cell_type": "code",
   "execution_count": 12,
   "metadata": {},
   "outputs": [
    {
     "name": "stdout",
     "output_type": "stream",
     "text": [
      "[ The Tragedie of Hamlet by William Shakespeare 1599 ] Actus Primus . Scoena Prima . Enter Barnardo and Francisco two Centinels . Barnardo . Who ' s there ? Fran . Nay answer me : Stand & vnfold your selfe Bar . Long liue the King Fran . Barnardo ? Bar . He Fran . You come most carefully vpon your houre Bar . ' Tis now strook twelue , get thee to bed Francisco Fran . For this releefe much thankes : ' Tis bitter cold , And I am sicke at heart Barn . Haue you had quiet Guard ? Fran . Not a Mouse stirring Barn . Well , goodnight . If you do meet Horatio and Marcellus , the Riuals of my Watch , bid them make hast . Enter Horatio and Marcellus . Fran . I thinke I heare them . Stand : who ' s there ? Hor . Friends to this ground Mar . And Leige - men to the Dane Fran . Giue you good night Mar . O farwel honest Soldier , who hath relieu ' d you ? Fra . Barnardo ha ' s my place : giue you goodnight . Exit Fran . Mar . Holla Barnardo Bar . Say , what is Horatio there ? Hor . A peece of him Bar . Welcome Horatio , welcome good Marcellus Mar . What , ha ' s this thing appear ' d againe to night Bar . I haue seene nothing Mar . Horatio saies , ' tis but our Fantasie , And will not let beleefe take hold of him Touching this dreaded sight , twice seene of vs , Therefore I haue intreated him along With vs , to watch the minutes of this Night , That if againe this Apparition come , He may approue our eyes , and speake to it Hor . Tush , tush , ' twill not appeare Bar . Sit downe a - while , And let vs once againe assaile your eares , That are so fortified against our Story , What we two Nights haue seene Hor . Well , sit we downe , And let vs heare Barnardo speake of this Barn . Last night of all , When yond same Starre that ' s Westward from the Pole Had made his course t ' illume that part of Heauen Where now it burnes , Marcellus and my selfe , The Bell then beating one Mar . Peace , breake thee of : Enter the Ghost . Looke where it comes againe Barn . In the same figure , like the King that ' s dead Mar . Thou art a Scholler ; speake to it Horatio Barn . Lookes it not like the King ? Marke it Horatio Hora . Most like : It harrowes me with fear & wonder Barn . It would be spoke too Mar . Question it Horatio Hor . What art "
     ]
    }
   ],
   "source": [
    "for word in hamlet[:500]:\n",
    "    print(word,sep=' ',end=' ')"
   ]
  },
  {
   "cell_type": "code",
   "execution_count": 13,
   "metadata": {},
   "outputs": [],
   "source": [
    "AI = \"\"\"Even the most advanced chatbots can’t hold a decent conversation, but AI systems are definitely getting better at generating the written word. A new web app provides ample proof, letting anyone enter a text prompt to which AI software will automatically respond.\n",
    "\n",
    "Enter the start of a made-up news article, and it’ll finish it for you. Ask it a question (by formatting your input like this: “Q: What should I do today?”), and it’ll happily respond.\n",
    "\n",
    "The site is called TalkToTransformer.com, and it’s the creation of Canadian engineer Adam King. King made the site, but the underlying technology comes from research lab OpenAI.\"\"\""
   ]
  },
  {
   "cell_type": "code",
   "execution_count": 14,
   "metadata": {},
   "outputs": [
    {
     "name": "stdout",
     "output_type": "stream",
     "text": [
      "Even the most advanced chatbots can’t hold a decent conversation, but AI systems are definitely getting better at generating the written word. A new web app provides ample proof, letting anyone enter a text prompt to which AI software will automatically respond.\n",
      "\n",
      "Enter the start of a made-up news article, and it’ll finish it for you. Ask it a question (by formatting your input like this: “Q: What should I do today?”), and it’ll happily respond.\n",
      "\n",
      "The site is called TalkToTransformer.com, and it’s the creation of Canadian engineer Adam King. King made the site, but the underlying technology comes from research lab OpenAI.\n"
     ]
    }
   ],
   "source": [
    "print(AI)"
   ]
  },
  {
   "cell_type": "markdown",
   "metadata": {},
   "source": [
    "# In NLP the first step is always to seperate the data into separate words"
   ]
  },
  {
   "cell_type": "code",
   "execution_count": 17,
   "metadata": {},
   "outputs": [
    {
     "name": "stdout",
     "output_type": "stream",
     "text": [
      "130\n",
      "['Even', 'the', 'most', 'advanced', 'chatbots', 'can', '’', 't', 'hold', 'a', 'decent', 'conversation', ',', 'but', 'AI', 'systems', 'are', 'definitely', 'getting', 'better', 'at', 'generating', 'the', 'written', 'word', '.', 'A', 'new', 'web', 'app', 'provides', 'ample', 'proof', ',', 'letting', 'anyone', 'enter', 'a', 'text', 'prompt', 'to', 'which', 'AI', 'software', 'will', 'automatically', 'respond', '.', 'Enter', 'the', 'start', 'of', 'a', 'made-up', 'news', 'article', ',', 'and', 'it', '’', 'll', 'finish', 'it', 'for', 'you', '.', 'Ask', 'it', 'a', 'question', '(', 'by', 'formatting', 'your', 'input', 'like', 'this', ':', '“', 'Q', ':', 'What', 'should', 'I', 'do', 'today', '?', '”', ')', ',', 'and', 'it', '’', 'll', 'happily', 'respond', '.', 'The', 'site', 'is', 'called', 'TalkToTransformer.com', ',', 'and', 'it', '’', 's', 'the', 'creation', 'of', 'Canadian', 'engineer', 'Adam', 'King', '.', 'King', 'made', 'the', 'site', ',', 'but', 'the', 'underlying', 'technology', 'comes', 'from', 'research', 'lab', 'OpenAI', '.']\n"
     ]
    }
   ],
   "source": [
    "from nltk.tokenize import word_tokenize\n",
    "AI_tokens = word_tokenize(AI)\n",
    "print(len(AI_tokens))\n",
    "print(AI_tokens)"
   ]
  },
  {
   "cell_type": "markdown",
   "metadata": {},
   "source": [
    "# Frequency of appearning words"
   ]
  },
  {
   "cell_type": "code",
   "execution_count": 24,
   "metadata": {},
   "outputs": [],
   "source": [
    "from nltk.probability import FreqDist\n",
    "fdist = FreqDist()\n",
    "\n",
    "for word in AI_tokens:\n",
    "    fdist[word.lower()]+=1\n",
    "\n",
    "    \n",
    "    "
   ]
  },
  {
   "cell_type": "code",
   "execution_count": 25,
   "metadata": {},
   "outputs": [
    {
     "name": "stdout",
     "output_type": "stream",
     "text": [
      "[('the', 7), (',', 6), ('.', 6), ('a', 5), ('it', 5), ('’', 4), ('and', 3), ('but', 2), ('ai', 2), ('enter', 2)]\n"
     ]
    }
   ],
   "source": [
    "fdist_top10 = fdist.most_common(10)\n",
    "print(fdist_top10)\n"
   ]
  },
  {
   "cell_type": "markdown",
   "metadata": {},
   "source": [
    "# How many Paragraphs"
   ]
  },
  {
   "cell_type": "code",
   "execution_count": 26,
   "metadata": {},
   "outputs": [
    {
     "data": {
      "text/plain": [
       "3"
      ]
     },
     "execution_count": 26,
     "metadata": {},
     "output_type": "execute_result"
    }
   ],
   "source": [
    "from nltk.tokenize import blankline_tokenize\n",
    "AI_blank = blankline_tokenize(AI)\n",
    "len(AI_blank)"
   ]
  },
  {
   "cell_type": "code",
   "execution_count": null,
   "metadata": {},
   "outputs": [],
   "source": []
  }
 ],
 "metadata": {
  "kernelspec": {
   "display_name": "Python (stockEnv)",
   "language": "python",
   "name": "stockenv"
  },
  "language_info": {
   "codemirror_mode": {
    "name": "ipython",
    "version": 3
   },
   "file_extension": ".py",
   "mimetype": "text/x-python",
   "name": "python",
   "nbconvert_exporter": "python",
   "pygments_lexer": "ipython3",
   "version": "3.6.8"
  }
 },
 "nbformat": 4,
 "nbformat_minor": 2
}
